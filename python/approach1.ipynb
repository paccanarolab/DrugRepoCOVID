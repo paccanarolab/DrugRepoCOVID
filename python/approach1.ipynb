{
 "cells": [
  {
   "cell_type": "markdown",
   "metadata": {},
   "source": [
    "# Computational approaches to assist drug repositioning for COVID-19\n",
    "### Matrix decomposition model -- approach 1"
   ]
  },
  {
   "cell_type": "code",
   "execution_count": 1,
   "metadata": {},
   "outputs": [],
   "source": [
    "import numpy.matlib\n",
    "from numpy import linalg as LA\n",
    "import pandas as pd \n",
    "import numpy as np\n",
    "import algorithm as MF\n",
    "import matplotlib.pyplot as plt \n",
    "from collections import defaultdict "
   ]
  },
  {
   "cell_type": "markdown",
   "metadata": {},
   "source": [
    "Load datasets"
   ]
  },
  {
   "cell_type": "code",
   "execution_count": 2,
   "metadata": {},
   "outputs": [],
   "source": [
    "drugvirM = pd.read_csv('data/drugvirMatrix.csv', header=None)\n",
    "drugNames = pd.read_csv('data/drugNames.csv', header=None)\n",
    "virusNames = pd.read_csv('data/virusNames.csv', header=None)"
   ]
  },
  {
   "cell_type": "markdown",
   "metadata": {},
   "source": [
    "The matrix $X$ contains the drug-virus associations. For convenience, the developmental stages are codified in the matrix using integers from 1 to 8, as follows:\n",
    "\n",
    "$X_{ij} = 1$ indicates cell/culture co-culture experiments\\\n",
    "$X_{ij} = 2$ indicates primary cells/organoids experiments\\\n",
    "$X_{ij} = 3$ indicates animal model experiments\\\n",
    "$X_{ij} = 4$ indicates phase I clinical trials \\\n",
    "$X_{ij} = 5$ indicates phase II clinical trials \\\n",
    "$X_{ij} = 6$ indicates phase III clinical trials \\\n",
    "$X_{ij} = 7$ indicates phase VI clinical trials \\\n",
    "$X_{ij} = 8$ indicates approved associations"
   ]
  },
  {
   "cell_type": "code",
   "execution_count": 3,
   "metadata": {},
   "outputs": [],
   "source": [
    "X = drugvirM.values "
   ]
  },
  {
   "cell_type": "markdown",
   "metadata": {},
   "source": [
    "Define the masks for the subset of entries in X according to their developmental stages "
   ]
  },
  {
   "cell_type": "code",
   "execution_count": 4,
   "metadata": {},
   "outputs": [],
   "source": [
    "masks = defaultdict()\n",
    "\n",
    "for i in range(9):\n",
    "    masks[i] = X == i\n"
   ]
  },
  {
   "cell_type": "markdown",
   "metadata": {},
   "source": [
    "Optimal parameters for every subset of entry"
   ]
  },
  {
   "cell_type": "code",
   "execution_count": 5,
   "metadata": {},
   "outputs": [
    {
     "data": {
      "text/plain": [
       "array([[0, 0, 0, ..., 1, 0, 1],\n",
       "       [0, 0, 0, ..., 0, 0, 1],\n",
       "       [0, 0, 0, ..., 0, 0, 1],\n",
       "       ...,\n",
       "       [0, 0, 0, ..., 0, 0, 0],\n",
       "       [0, 0, 0, ..., 0, 0, 0],\n",
       "       [0, 0, 0, ..., 0, 0, 0]])"
      ]
     },
     "execution_count": 5,
     "metadata": {},
     "output_type": "execute_result"
    }
   ],
   "source": [
    "alphas = [1.0, 0.01, 0.01, 0.01, 0.16, 0.27, 0.73, 1.0, 1.0];\n",
    "k = 5 # number of latent factors\n",
    "Xbinary = X > 0\n",
    "Xbinary.astype(int)"
   ]
  },
  {
   "cell_type": "code",
   "execution_count": 6,
   "metadata": {},
   "outputs": [
    {
     "name": "stdout",
     "output_type": "stream",
     "text": [
      "Iter 118 delta 9.746571477445836e-05\n"
     ]
    }
   ],
   "source": [
    "[W, H, J] = MF.DecompositionAlgorithm(Xbinary, k, alphas, masks)"
   ]
  },
  {
   "cell_type": "code",
   "execution_count": 7,
   "metadata": {},
   "outputs": [
    {
     "data": {
      "image/png": "[encoded data removed]",
      "text/plain": [
       "<Figure size 432x288 with 1 Axes>"
      ]
     },
     "metadata": {
      "needs_background": "light"
     },
     "output_type": "display_data"
    }
   ],
   "source": [
    "plt.plot(J)\n",
    "plt.ylabel('Cost function')\n",
    "plt.xlabel('iterations')\n",
    "plt.grid(True)\n",
    "plt.show()"
   ]
  },
  {
   "cell_type": "markdown",
   "metadata": {},
   "source": [
    "Predicted scores for every drug-virus association in the matrix"
   ]
  },
  {
   "cell_type": "code",
   "execution_count": 8,
   "metadata": {},
   "outputs": [],
   "source": [
    "predictedScores = pd.DataFrame(data=np.dot(W, H),    # values\n",
    "...              index=drugNames.values.flatten().tolist(),    # 1st column as index\n",
    "...              columns=virusNames.values.flatten().tolist())"
   ]
  },
  {
   "cell_type": "markdown",
   "metadata": {},
   "source": [
    "Predicted Broad-Spectrum Antivirals for SARS-CoV-2"
   ]
  },
  {
   "cell_type": "code",
   "execution_count": 11,
   "metadata": {},
   "outputs": [],
   "source": [
    "df = predictedScores.sort_values(by=['SARS-CoV-2'],  ascending=False)"
   ]
  },
  {
   "cell_type": "code",
   "execution_count": 12,
   "metadata": {},
   "outputs": [
    {
     "data": {
      "text/plain": [
       "Favipiravir              9.629694e-01\n",
       "Arbidol (Umifenovir)     9.414001e-01\n",
       "Lopinavir                6.119323e-01\n",
       "Ritonavir                5.861103e-01\n",
       "Lamivudine               4.752093e-01\n",
       "                            ...      \n",
       "N-MCT                   1.092129e-162\n",
       "Fluoxetine              3.387944e-164\n",
       "Sofosbuvir              2.594121e-172\n",
       "Pirlindole              3.018887e-186\n",
       "Dibucaine               4.536245e-187\n",
       "Name: SARS-CoV-2, Length: 126, dtype: float64"
      ]
     },
     "execution_count": 12,
     "metadata": {},
     "output_type": "execute_result"
    }
   ],
   "source": [
    "df.loc[:, 'SARS-CoV-2']"
   ]
  }
 ],
 "metadata": {
  "kernelspec": {
   "display_name": "Python 3",
   "language": "python",
   "name": "python3"
  },
  "language_info": {
   "codemirror_mode": {
    "name": "ipython",
    "version": 3
   },
   "file_extension": ".py",
   "mimetype": "text/x-python",
   "name": "python",
   "nbconvert_exporter": "python",
   "pygments_lexer": "ipython3",
   "version": "3.8.5"
  }
 },
 "nbformat": 4,
 "nbformat_minor": 4
}
